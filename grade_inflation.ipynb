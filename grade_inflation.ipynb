{
 "cells": [
  {
   "cell_type": "markdown",
   "metadata": {},
   "source": [
    "# Investigating overall section GPA trends across time. Comparing 2006-2007 and 2016-2017"
   ]
  },
  {
   "cell_type": "markdown",
   "metadata": {},
   "source": [
    "This notebook uses data from the UW Madison database to complete a hypothesis test comparing mean section grades in 2016-2017 to that of 2006-2007.\n",
    "\n",
    "H0: The grading in 2016-2017 is the same as in 2006-2007\n",
    "\n",
    "H1: The grading in 2016-2017 is different than in 2006-2007"
   ]
  },
  {
   "cell_type": "markdown",
   "metadata": {},
   "source": [
    "## Import necessary Python libraries and modules"
   ]
  },
  {
   "cell_type": "code",
   "execution_count": 2,
   "metadata": {},
   "outputs": [],
   "source": [
    "from sqlalchemy import create_engine\n",
    "import pandas as pd\n",
    "from matplotlib import pyplot as plt\n",
    "import numpy as np\n",
    "from scipy import stats"
   ]
  },
  {
   "cell_type": "markdown",
   "metadata": {},
   "source": [
    "## Query the database and create a dataframe of '07 and '17 section mean grades. Select data from Fall and Spring Terms for each year."
   ]
  },
  {
   "cell_type": "code",
   "execution_count": 3,
   "metadata": {},
   "outputs": [],
   "source": [
    "engine = create_engine('postgresql:///uw_madison')\n",
    "df = pd.read_sql_query(\"\"\"SELECT * FROM section_grades_term;\"\"\", engine)\n",
    "\n",
    "oh_six_oh_seven = df.loc[df['term_code'].isin(['1072', '1074'])]\n",
    "sixteen_seventeen = df.loc[df['term_code'].isin(['1172', '1174'])]"
   ]
  },
  {
   "cell_type": "markdown",
   "metadata": {},
   "source": [
    "## Randomly sample from the 2016-2017 to create equal-sized data sets for evaluation."
   ]
  },
  {
   "cell_type": "code",
   "execution_count": 4,
   "metadata": {},
   "outputs": [],
   "source": [
    "oh_six_oh_seven_dist = oh_six_oh_seven['section_gpa']\n",
    "sixteen_seventeen_dist = np.random.choice(sixteen_seventeen['section_gpa'], \n",
    "                                          size=len(oh_six_oh_seven_dist),\n",
    "                                          replace=False)\n"
   ]
  },
  {
   "cell_type": "markdown",
   "metadata": {},
   "source": [
    "# Visualize data sets"
   ]
  },
  {
   "cell_type": "code",
   "execution_count": 10,
   "metadata": {},
   "outputs": [
    {
     "data": {
      "image/png": "[encoded data removed]",
      "text/plain": [
       "<Figure size 720x432 with 1 Axes>"
      ]
     },
     "metadata": {
      "needs_background": "light"
     },
     "output_type": "display_data"
    }
   ],
   "source": [
    "fig, ax = plt.subplots(figsize = (10, 6))\n",
    "ax.hist(oh_six_oh_seven_dist, alpha = .5, label='2006-2007', \n",
    "        range=(1, 4), bins=25)\n",
    "ax.hist(sixteen_seventeen_dist, alpha = .5, label='2016-2017', \n",
    "        range= (1, 4), bins=25)\n",
    "ax.axvline(oh_six_oh_seven_dist.mean(), color='#1f77b4', linestyle='dashed', label='06-07 Mean')\n",
    "ax.axvline(sixteen_seventeen_dist.mean(), color='#ff7f0e', linestyle='dashed', label='06-07 Mean')\n",
    "ax.legend()\n",
    "ax.set_title('Comparing section mean GPAs between 2006-2007 and 2016-2017 school years')\n",
    "ax.set_xlim(1,4)\n",
    "ax.set_ylabel('Frequency')\n",
    "ax.set_xlabel('GPA');"
   ]
  },
  {
   "cell_type": "markdown",
   "metadata": {},
   "source": [
    "# Complete t-test and print results"
   ]
  },
  {
   "cell_type": "code",
   "execution_count": 6,
   "metadata": {},
   "outputs": [
    {
     "name": "stdout",
     "output_type": "stream",
     "text": [
      "T-Statistic: -10.03 \n",
      "p-value: 0.0\n"
     ]
    }
   ],
   "source": [
    "statistics = stats.ttest_ind(oh_six_oh_seven_dist, sixteen_seventeen_dist)\n",
    "print(f'T-Statistic: {round(statistics[0],2)} \\np-value: {round(statistics[1],2)}')"
   ]
  },
  {
   "cell_type": "markdown",
   "metadata": {},
   "source": [
    "# Analysis\n",
    "\n",
    "We reject the null hypothesis that there is no difference between 2006-2007 and 2016-2017 with a confidence interval of 95%."
   ]
  },
  {
   "cell_type": "code",
   "execution_count": null,
   "metadata": {},
   "outputs": [],
   "source": []
  }
 ],
 "metadata": {
  "kernelspec": {
   "display_name": "Python [conda env:learn-env] *",
   "language": "python",
   "name": "conda-env-learn-env-py"
  },
  "language_info": {
   "codemirror_mode": {
    "name": "ipython",
    "version": 3
   },
   "file_extension": ".py",
   "mimetype": "text/x-python",
   "name": "python",
   "nbconvert_exporter": "python",
   "pygments_lexer": "ipython3",
   "version": "3.6.6"
  }
 },
 "nbformat": 4,
 "nbformat_minor": 2
}
