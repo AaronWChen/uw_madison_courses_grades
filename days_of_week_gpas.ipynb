{
 "cells": [
  {
   "cell_type": "markdown",
   "metadata": {},
   "source": [
    "# Comparing GPAs of Days of the Week at UW Madison since 2006"
   ]
  },
  {
   "cell_type": "markdown",
   "metadata": {},
   "source": [
    "This notebook performs a SQL query on the UW Madison database and does a hypothesis test on each day's GPA compared against all of the other days' GPAs\n",
    "\n",
    "For each day:\n",
    "* H0 = There is no difference between this day's GPAs and the other days' GPAs\n",
    "* HA = There is a difference between this day's GPAs and the other days' GPAs"
   ]
  },
  {
   "cell_type": "markdown",
   "metadata": {},
   "source": [
    "---"
   ]
  },
  {
   "cell_type": "markdown",
   "metadata": {},
   "source": [
    "## Import necessary Python libraries and modules"
   ]
  },
  {
   "cell_type": "code",
   "execution_count": 1,
   "metadata": {},
   "outputs": [],
   "source": [
    "from sqlalchemy import create_engine\n",
    "from scipy import stats\n",
    "import pandas as pd\n",
    "import matplotlib.pyplot as plt\n",
    "import numpy as np\n",
    "import seaborn as sns\n",
    "from bootstrap import bootstrap"
   ]
  },
  {
   "cell_type": "markdown",
   "metadata": {},
   "source": [
    "## Query the database to create one overall Pandas dataframe which is then filtered to remove any classes where the GPA is 4.0"
   ]
  },
  {
   "cell_type": "code",
   "execution_count": 2,
   "metadata": {},
   "outputs": [],
   "source": [
    "engine = create_engine('postgresql:///uw_madison')"
   ]
  },
  {
   "cell_type": "code",
   "execution_count": 3,
   "metadata": {},
   "outputs": [],
   "source": [
    "query = \"\"\"SELECT c.uuid, c.name,\n",
    "                    sch.mon, sch.tues, sch.wed, sch.thurs, sch.fri, sch.sat, sch.sun,\n",
    "                    subj.name as subject_name,\n",
    "                    gdc.section_number,\n",
    "\n",
    "                    (gdc.a_count * 4 + gdc.ab_count * 3.5 + gdc.b_count * 3 + gdc.bc_count * 2.5 + gdc.c_count * 2 + gdc.d_count * 1)\n",
    "                        / (gdc.a_count + gdc.ab_count + gdc.b_count + gdc.bc_count + gdc.c_count + gdc.d_count + gdc.f_count) AS section_gpa,\n",
    "\n",
    "                    (gdc.s_count + gdc.u_count + gdc.cr_count + gdc.n_count + gdc.p_count + gdc.i_count + gdc.nw_count + gdc.nr_count \n",
    "                        + gdc.other_count) AS non_gpa_count\n",
    "                FROM schedules AS sch\n",
    "                JOIN sections ON sch.uuid = sections.schedule_uuid \n",
    "                JOIN course_offerings AS c ON sections.course_offering_uuid = c.uuid\n",
    "                JOIN courses ON c.course_uuid = courses.uuid\n",
    "                JOIN subject_memberships ON sections.course_offering_uuid = subject_memberships.course_offering_uuid\n",
    "                JOIN subjects AS subj on subject_memberships.subject_code = subj.code\n",
    "                JOIN grade_distributions_casted AS gdc ON c.uuid = gdc.course_offering_uuid\n",
    "\n",
    "            WHERE (gdc.a_count + gdc.ab_count + gdc.b_count + gdc.bc_count + gdc.c_count + gdc.d_count + gdc.f_count) != 0\n",
    "                AND ((sch.mon = 'true') OR (sch.tues = 'true') OR (sch.wed = 'true') OR (sch.thurs = 'true') \n",
    "                OR (sch.fri = 'true') OR (sch.sat = 'true') OR (sch.sun = 'true'))\n",
    "            GROUP BY c.uuid, c.name, section_gpa, non_gpa_count, sch.mon, sch.tues, sch.wed, sch.thurs, sch.fri, sch.sat, sch.sun, subj.name, gdc.section_number; \n",
    "            \"\"\""
   ]
  },
  {
   "cell_type": "code",
   "execution_count": 4,
   "metadata": {},
   "outputs": [
    {
     "data": {
      "text/html": [
       "<div>\n",
       "<style scoped>\n",
       "    .dataframe tbody tr th:only-of-type {\n",
       "        vertical-align: middle;\n",
       "    }\n",
       "\n",
       "    .dataframe tbody tr th {\n",
       "        vertical-align: top;\n",
       "    }\n",
       "\n",
       "    .dataframe thead th {\n",
       "        text-align: right;\n",
       "    }\n",
       "</style>\n",
       "<table border=\"1\" class=\"dataframe\">\n",
       "  <thead>\n",
       "    <tr style=\"text-align: right;\">\n",
       "      <th></th>\n",
       "      <th>section_number</th>\n",
       "      <th>section_gpa</th>\n",
       "      <th>non_gpa_count</th>\n",
       "    </tr>\n",
       "  </thead>\n",
       "  <tbody>\n",
       "    <tr>\n",
       "      <th>count</th>\n",
       "      <td>198500.000000</td>\n",
       "      <td>198500.000000</td>\n",
       "      <td>198500.000000</td>\n",
       "    </tr>\n",
       "    <tr>\n",
       "      <th>mean</th>\n",
       "      <td>5.571466</td>\n",
       "      <td>3.481093</td>\n",
       "      <td>0.742771</td>\n",
       "    </tr>\n",
       "    <tr>\n",
       "      <th>std</th>\n",
       "      <td>12.709275</td>\n",
       "      <td>0.389662</td>\n",
       "      <td>2.570848</td>\n",
       "    </tr>\n",
       "    <tr>\n",
       "      <th>min</th>\n",
       "      <td>1.000000</td>\n",
       "      <td>0.000000</td>\n",
       "      <td>0.000000</td>\n",
       "    </tr>\n",
       "    <tr>\n",
       "      <th>25%</th>\n",
       "      <td>1.000000</td>\n",
       "      <td>3.197183</td>\n",
       "      <td>0.000000</td>\n",
       "    </tr>\n",
       "    <tr>\n",
       "      <th>50%</th>\n",
       "      <td>1.000000</td>\n",
       "      <td>3.514151</td>\n",
       "      <td>0.000000</td>\n",
       "    </tr>\n",
       "    <tr>\n",
       "      <th>75%</th>\n",
       "      <td>4.000000</td>\n",
       "      <td>3.822448</td>\n",
       "      <td>1.000000</td>\n",
       "    </tr>\n",
       "    <tr>\n",
       "      <th>max</th>\n",
       "      <td>296.000000</td>\n",
       "      <td>4.000000</td>\n",
       "      <td>163.000000</td>\n",
       "    </tr>\n",
       "  </tbody>\n",
       "</table>\n",
       "</div>"
      ],
      "text/plain": [
       "       section_number    section_gpa  non_gpa_count\n",
       "count   198500.000000  198500.000000  198500.000000\n",
       "mean         5.571466       3.481093       0.742771\n",
       "std         12.709275       0.389662       2.570848\n",
       "min          1.000000       0.000000       0.000000\n",
       "25%          1.000000       3.197183       0.000000\n",
       "50%          1.000000       3.514151       0.000000\n",
       "75%          4.000000       3.822448       1.000000\n",
       "max        296.000000       4.000000     163.000000"
      ]
     },
     "execution_count": 4,
     "metadata": {},
     "output_type": "execute_result"
    }
   ],
   "source": [
    "all_days_df = pd.read_sql(query, engine)\n",
    "all_days_df.describe()"
   ]
  },
  {
   "cell_type": "code",
   "execution_count": 5,
   "metadata": {},
   "outputs": [
    {
     "data": {
      "text/html": [
       "<div>\n",
       "<style scoped>\n",
       "    .dataframe tbody tr th:only-of-type {\n",
       "        vertical-align: middle;\n",
       "    }\n",
       "\n",
       "    .dataframe tbody tr th {\n",
       "        vertical-align: top;\n",
       "    }\n",
       "\n",
       "    .dataframe thead th {\n",
       "        text-align: right;\n",
       "    }\n",
       "</style>\n",
       "<table border=\"1\" class=\"dataframe\">\n",
       "  <thead>\n",
       "    <tr style=\"text-align: right;\">\n",
       "      <th></th>\n",
       "      <th>uuid</th>\n",
       "      <th>name</th>\n",
       "      <th>mon</th>\n",
       "      <th>tues</th>\n",
       "      <th>wed</th>\n",
       "      <th>thurs</th>\n",
       "      <th>fri</th>\n",
       "      <th>sat</th>\n",
       "      <th>sun</th>\n",
       "      <th>subject_name</th>\n",
       "      <th>section_number</th>\n",
       "      <th>section_gpa</th>\n",
       "      <th>non_gpa_count</th>\n",
       "    </tr>\n",
       "  </thead>\n",
       "  <tbody>\n",
       "    <tr>\n",
       "      <th>0</th>\n",
       "      <td>000085b6-0eb9-386e-881e-60cc62be5b62</td>\n",
       "      <td>Adv Hist-Philos: Kant</td>\n",
       "      <td>false</td>\n",
       "      <td>true</td>\n",
       "      <td>false</td>\n",
       "      <td>false</td>\n",
       "      <td>false</td>\n",
       "      <td>false</td>\n",
       "      <td>false</td>\n",
       "      <td>Philosophy</td>\n",
       "      <td>1</td>\n",
       "      <td>4.000000</td>\n",
       "      <td>0</td>\n",
       "    </tr>\n",
       "    <tr>\n",
       "      <th>1</th>\n",
       "      <td>00015734-b612-3152-bf5f-7f6855e1c0c0</td>\n",
       "      <td>Fundamentals of Analytical Sci</td>\n",
       "      <td>false</td>\n",
       "      <td>false</td>\n",
       "      <td>true</td>\n",
       "      <td>false</td>\n",
       "      <td>false</td>\n",
       "      <td>false</td>\n",
       "      <td>false</td>\n",
       "      <td>Chemistry</td>\n",
       "      <td>1</td>\n",
       "      <td>3.117647</td>\n",
       "      <td>0</td>\n",
       "    </tr>\n",
       "    <tr>\n",
       "      <th>2</th>\n",
       "      <td>00015734-b612-3152-bf5f-7f6855e1c0c0</td>\n",
       "      <td>Fundamentals of Analytical Sci</td>\n",
       "      <td>false</td>\n",
       "      <td>true</td>\n",
       "      <td>false</td>\n",
       "      <td>true</td>\n",
       "      <td>false</td>\n",
       "      <td>false</td>\n",
       "      <td>false</td>\n",
       "      <td>Chemistry</td>\n",
       "      <td>1</td>\n",
       "      <td>3.117647</td>\n",
       "      <td>0</td>\n",
       "    </tr>\n",
       "    <tr>\n",
       "      <th>3</th>\n",
       "      <td>0002389b-0bda-3f47-b5e7-e9d8973cb2e9</td>\n",
       "      <td>Corporate&amp;Special Info Serv</td>\n",
       "      <td>true</td>\n",
       "      <td>false</td>\n",
       "      <td>false</td>\n",
       "      <td>false</td>\n",
       "      <td>false</td>\n",
       "      <td>false</td>\n",
       "      <td>false</td>\n",
       "      <td>Library and Information Studies</td>\n",
       "      <td>1</td>\n",
       "      <td>3.818182</td>\n",
       "      <td>0</td>\n",
       "    </tr>\n",
       "    <tr>\n",
       "      <th>4</th>\n",
       "      <td>00028b06-6e42-3a3e-b484-69fd61baf978</td>\n",
       "      <td>Spectrochemical Measuremts</td>\n",
       "      <td>true</td>\n",
       "      <td>false</td>\n",
       "      <td>true</td>\n",
       "      <td>false</td>\n",
       "      <td>true</td>\n",
       "      <td>false</td>\n",
       "      <td>false</td>\n",
       "      <td>Chemistry</td>\n",
       "      <td>1</td>\n",
       "      <td>3.425926</td>\n",
       "      <td>0</td>\n",
       "    </tr>\n",
       "  </tbody>\n",
       "</table>\n",
       "</div>"
      ],
      "text/plain": [
       "                                   uuid                            name  \\\n",
       "0  000085b6-0eb9-386e-881e-60cc62be5b62           Adv Hist-Philos: Kant   \n",
       "1  00015734-b612-3152-bf5f-7f6855e1c0c0  Fundamentals of Analytical Sci   \n",
       "2  00015734-b612-3152-bf5f-7f6855e1c0c0  Fundamentals of Analytical Sci   \n",
       "3  0002389b-0bda-3f47-b5e7-e9d8973cb2e9     Corporate&Special Info Serv   \n",
       "4  00028b06-6e42-3a3e-b484-69fd61baf978      Spectrochemical Measuremts   \n",
       "\n",
       "     mon   tues    wed  thurs    fri    sat    sun  \\\n",
       "0  false   true  false  false  false  false  false   \n",
       "1  false  false   true  false  false  false  false   \n",
       "2  false   true  false   true  false  false  false   \n",
       "3   true  false  false  false  false  false  false   \n",
       "4   true  false   true  false   true  false  false   \n",
       "\n",
       "                      subject_name  section_number  section_gpa  non_gpa_count  \n",
       "0                       Philosophy               1     4.000000              0  \n",
       "1                        Chemistry               1     3.117647              0  \n",
       "2                        Chemistry               1     3.117647              0  \n",
       "3  Library and Information Studies               1     3.818182              0  \n",
       "4                        Chemistry               1     3.425926              0  "
      ]
     },
     "execution_count": 5,
     "metadata": {},
     "output_type": "execute_result"
    }
   ],
   "source": [
    "all_days_df.head()"
   ]
  },
  {
   "cell_type": "code",
   "execution_count": 6,
   "metadata": {},
   "outputs": [],
   "source": [
    "all_days_df = all_days_df.loc[all_days_df['section_gpa'] != 4.0]"
   ]
  },
  {
   "cell_type": "markdown",
   "metadata": {},
   "source": [
    "## The overall dataframe is then used to make dataframes for each day and for all other days. E.g. a Monday dataframe with a dataframe for all days besides Monday. Then randomly pick 70 from each dataframe to make plots and conduct hypothesis testing on."
   ]
  },
  {
   "cell_type": "code",
   "execution_count": 7,
   "metadata": {},
   "outputs": [],
   "source": [
    "days = ['mon', 'tues', 'wed', 'thurs', 'fri', 'sat', 'sun']"
   ]
  },
  {
   "cell_type": "code",
   "execution_count": 8,
   "metadata": {},
   "outputs": [],
   "source": [
    "gpas = []\n",
    "p_vals = {}\n",
    "\n",
    "for day in days:\n",
    "    day_df = all_days_df.loc[all_days_df[str(day)] == 'true', 'section_gpa']\n",
    "    day_choice = np.random.choice(day_df, size=70, replace=False)\n",
    "    \n",
    "    not_day_df = all_days_df.loc[all_days_df[str(day)] != 'true', 'section_gpa']\n",
    "    not_day_choice = np.random.choice(not_day_df, size=70, replace=False)\n",
    "    gpas.append({\"day\": day_choice, \"not_day\": not_day_choice})\n",
    "    p_vals[str(day)] = stats.ttest_ind(day_choice, not_day_choice, equal_var=False)"
   ]
  },
  {
   "cell_type": "markdown",
   "metadata": {},
   "source": [
    "## Generate plots comparing each day against all other days"
   ]
  },
  {
   "cell_type": "code",
   "execution_count": 9,
   "metadata": {},
   "outputs": [],
   "source": [
    "full_days = ['Monday', 'Tuesday', 'Wednesday', 'Thursday', 'Friday', 'Saturday', 'Sunday']"
   ]
  },
  {
   "cell_type": "code",
   "execution_count": 10,
   "metadata": {},
   "outputs": [
    {
     "data": {
      "image/png": "[encoded data removed]",
      "text/plain": [
       "<Figure size 1080x1440 with 7 Axes>"
      ]
     },
     "metadata": {
      "needs_background": "light"
     },
     "output_type": "display_data"
    }
   ],
   "source": [
    "fig, ax = plt.subplots(nrows=7, ncols=1, figsize=(15,20))\n",
    "\n",
    "counter = 0\n",
    "\n",
    "for row in range(ax.shape[0]):\n",
    "    ax[row].hist(gpas[counter][\"day\"], alpha=0.5, bins=15, range=(2.5, 4.0), label=f'{full_days[counter]} GPAs')\n",
    "    ax[row].hist(gpas[counter][\"not_day\"], alpha=0.5, bins=15, range=(2.5, 4.0), label=f'GPAs from Days Other than {full_days[counter]}')\n",
    "    ax[row].legend()\n",
    "    ax[row].set_xlabel('GPA');\n",
    "    counter += 1\n",
    "    \n",
    "fig.tight_layout()"
   ]
  },
  {
   "cell_type": "markdown",
   "metadata": {},
   "source": [
    "## Display the T statistic and p-values for each day against all other days"
   ]
  },
  {
   "cell_type": "code",
   "execution_count": 11,
   "metadata": {},
   "outputs": [
    {
     "data": {
      "text/plain": [
       "{'mon': Ttest_indResult(statistic=-0.5939035529353549, pvalue=0.5535544928531431),\n",
       " 'tues': Ttest_indResult(statistic=-0.6602472027141818, pvalue=0.5102067189792514),\n",
       " 'wed': Ttest_indResult(statistic=-0.2960200982755271, pvalue=0.7676662676608916),\n",
       " 'thurs': Ttest_indResult(statistic=1.143545061522677, pvalue=0.2548287281005639),\n",
       " 'fri': Ttest_indResult(statistic=-1.2288313411626166, pvalue=0.22123969538377578),\n",
       " 'sat': Ttest_indResult(statistic=4.642927506421089, pvalue=9.428462099199783e-06),\n",
       " 'sun': Ttest_indResult(statistic=5.769922464563611, pvalue=6.982765746255623e-08)}"
      ]
     },
     "execution_count": 11,
     "metadata": {},
     "output_type": "execute_result"
    }
   ],
   "source": [
    "p_vals"
   ]
  },
  {
   "cell_type": "markdown",
   "metadata": {},
   "source": [
    "We can see from the plots and the T statistics of the random samples from the weekday populations that the GPAs are not different to a statistically significant amount. In these cases, we fail to reject the null hypothesis for each weekday.\n",
    "\n",
    "However, the classes that meet on weekends have GPAs that are statistically distinct from the other days. For Saturday and Sunday, we reject the null hypothesis."
   ]
  }
 ],
 "metadata": {
  "kernelspec": {
   "display_name": "Python [conda env:learn-env] *",
   "language": "python",
   "name": "conda-env-learn-env-py"
  },
  "language_info": {
   "codemirror_mode": {
    "name": "ipython",
    "version": 3
   },
   "file_extension": ".py",
   "mimetype": "text/x-python",
   "name": "python",
   "nbconvert_exporter": "python",
   "pygments_lexer": "ipython3",
   "version": "3.6.6"
  }
 },
 "nbformat": 4,
 "nbformat_minor": 2
}
