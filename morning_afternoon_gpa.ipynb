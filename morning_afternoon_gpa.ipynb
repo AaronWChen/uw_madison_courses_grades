{
 "cells": [
  {
   "cell_type": "markdown",
   "metadata": {},
   "source": [
    "# Comparing Morning and Afternoon GPAs at UW Madison since 2006"
   ]
  },
  {
   "cell_type": "markdown",
   "metadata": {},
   "source": [
    "This notebook performs a SQL query on the UW Madison database and does a hypothesis test comparing morning and afternoon class GPAs.\n",
    "\n",
    "H0 = There is no difference between GPAs of morning and afternoon classes.\n",
    "\n",
    "HA = There is a difference between GPAs of morning and afternoon classes."
   ]
  },
  {
   "cell_type": "markdown",
   "metadata": {},
   "source": [
    "---"
   ]
  },
  {
   "cell_type": "markdown",
   "metadata": {},
   "source": [
    "## Import necessary Python libraries and modules"
   ]
  },
  {
   "cell_type": "code",
   "execution_count": 1,
   "metadata": {},
   "outputs": [],
   "source": [
    "from sqlalchemy import create_engine\n",
    "from scipy import stats\n",
    "import pandas as pd\n",
    "import matplotlib.pyplot as plt\n",
    "import numpy as np\n",
    "import seaborn as sns\n",
    "from bootstrap import bootstrap"
   ]
  },
  {
   "cell_type": "markdown",
   "metadata": {},
   "source": [
    "## Query the database and create dataframes of morning and afternoon classes"
   ]
  },
  {
   "cell_type": "code",
   "execution_count": 2,
   "metadata": {},
   "outputs": [],
   "source": [
    "engine = create_engine('postgresql:///uw_madison')"
   ]
  },
  {
   "cell_type": "code",
   "execution_count": 3,
   "metadata": {},
   "outputs": [
    {
     "data": {
      "text/html": [
       "<div>\n",
       "<style scoped>\n",
       "    .dataframe tbody tr th:only-of-type {\n",
       "        vertical-align: middle;\n",
       "    }\n",
       "\n",
       "    .dataframe tbody tr th {\n",
       "        vertical-align: top;\n",
       "    }\n",
       "\n",
       "    .dataframe thead th {\n",
       "        text-align: right;\n",
       "    }\n",
       "</style>\n",
       "<table border=\"1\" class=\"dataframe\">\n",
       "  <thead>\n",
       "    <tr style=\"text-align: right;\">\n",
       "      <th></th>\n",
       "      <th>section_number</th>\n",
       "      <th>section_gpa</th>\n",
       "      <th>non_gpa_count</th>\n",
       "      <th>non_gpa_percent</th>\n",
       "    </tr>\n",
       "  </thead>\n",
       "  <tbody>\n",
       "    <tr>\n",
       "      <th>count</th>\n",
       "      <td>133761.000000</td>\n",
       "      <td>133761.000000</td>\n",
       "      <td>133761.000000</td>\n",
       "      <td>133761.0</td>\n",
       "    </tr>\n",
       "    <tr>\n",
       "      <th>mean</th>\n",
       "      <td>7.758981</td>\n",
       "      <td>3.421412</td>\n",
       "      <td>0.682665</td>\n",
       "      <td>0.0</td>\n",
       "    </tr>\n",
       "    <tr>\n",
       "      <th>std</th>\n",
       "      <td>14.373496</td>\n",
       "      <td>0.389728</td>\n",
       "      <td>2.493624</td>\n",
       "      <td>0.0</td>\n",
       "    </tr>\n",
       "    <tr>\n",
       "      <th>min</th>\n",
       "      <td>1.000000</td>\n",
       "      <td>0.000000</td>\n",
       "      <td>0.000000</td>\n",
       "      <td>0.0</td>\n",
       "    </tr>\n",
       "    <tr>\n",
       "      <th>25%</th>\n",
       "      <td>1.000000</td>\n",
       "      <td>3.144161</td>\n",
       "      <td>0.000000</td>\n",
       "      <td>0.0</td>\n",
       "    </tr>\n",
       "    <tr>\n",
       "      <th>50%</th>\n",
       "      <td>2.000000</td>\n",
       "      <td>3.441176</td>\n",
       "      <td>0.000000</td>\n",
       "      <td>0.0</td>\n",
       "    </tr>\n",
       "    <tr>\n",
       "      <th>75%</th>\n",
       "      <td>8.000000</td>\n",
       "      <td>3.748634</td>\n",
       "      <td>1.000000</td>\n",
       "      <td>0.0</td>\n",
       "    </tr>\n",
       "    <tr>\n",
       "      <th>max</th>\n",
       "      <td>234.000000</td>\n",
       "      <td>4.000000</td>\n",
       "      <td>163.000000</td>\n",
       "      <td>0.0</td>\n",
       "    </tr>\n",
       "  </tbody>\n",
       "</table>\n",
       "</div>"
      ],
      "text/plain": [
       "       section_number    section_gpa  non_gpa_count  non_gpa_percent\n",
       "count   133761.000000  133761.000000  133761.000000         133761.0\n",
       "mean         7.758981       3.421412       0.682665              0.0\n",
       "std         14.373496       0.389728       2.493624              0.0\n",
       "min          1.000000       0.000000       0.000000              0.0\n",
       "25%          1.000000       3.144161       0.000000              0.0\n",
       "50%          2.000000       3.441176       0.000000              0.0\n",
       "75%          8.000000       3.748634       1.000000              0.0\n",
       "max        234.000000       4.000000     163.000000              0.0"
      ]
     },
     "execution_count": 3,
     "metadata": {},
     "output_type": "execute_result"
    }
   ],
   "source": [
    "morning_df = pd.read_sql('SELECT * FROM morning_classes_gpas;', engine)\n",
    "morning_df.describe()"
   ]
  },
  {
   "cell_type": "code",
   "execution_count": 4,
   "metadata": {},
   "outputs": [
    {
     "data": {
      "text/html": [
       "<div>\n",
       "<style scoped>\n",
       "    .dataframe tbody tr th:only-of-type {\n",
       "        vertical-align: middle;\n",
       "    }\n",
       "\n",
       "    .dataframe tbody tr th {\n",
       "        vertical-align: top;\n",
       "    }\n",
       "\n",
       "    .dataframe thead th {\n",
       "        text-align: right;\n",
       "    }\n",
       "</style>\n",
       "<table border=\"1\" class=\"dataframe\">\n",
       "  <thead>\n",
       "    <tr style=\"text-align: right;\">\n",
       "      <th></th>\n",
       "      <th>section_number</th>\n",
       "      <th>section_gpa</th>\n",
       "      <th>non_gpa_count</th>\n",
       "      <th>non_gpa_percent</th>\n",
       "    </tr>\n",
       "  </thead>\n",
       "  <tbody>\n",
       "    <tr>\n",
       "      <th>count</th>\n",
       "      <td>185256.000000</td>\n",
       "      <td>185256.000000</td>\n",
       "      <td>185256.000000</td>\n",
       "      <td>185256.0</td>\n",
       "    </tr>\n",
       "    <tr>\n",
       "      <th>mean</th>\n",
       "      <td>7.302101</td>\n",
       "      <td>3.451737</td>\n",
       "      <td>0.656805</td>\n",
       "      <td>0.0</td>\n",
       "    </tr>\n",
       "    <tr>\n",
       "      <th>std</th>\n",
       "      <td>12.653836</td>\n",
       "      <td>0.397448</td>\n",
       "      <td>2.350974</td>\n",
       "      <td>0.0</td>\n",
       "    </tr>\n",
       "    <tr>\n",
       "      <th>min</th>\n",
       "      <td>1.000000</td>\n",
       "      <td>0.000000</td>\n",
       "      <td>0.000000</td>\n",
       "      <td>0.0</td>\n",
       "    </tr>\n",
       "    <tr>\n",
       "      <th>25%</th>\n",
       "      <td>1.000000</td>\n",
       "      <td>3.157895</td>\n",
       "      <td>0.000000</td>\n",
       "      <td>0.0</td>\n",
       "    </tr>\n",
       "    <tr>\n",
       "      <th>50%</th>\n",
       "      <td>2.000000</td>\n",
       "      <td>3.478533</td>\n",
       "      <td>0.000000</td>\n",
       "      <td>0.0</td>\n",
       "    </tr>\n",
       "    <tr>\n",
       "      <th>75%</th>\n",
       "      <td>8.000000</td>\n",
       "      <td>3.800000</td>\n",
       "      <td>1.000000</td>\n",
       "      <td>0.0</td>\n",
       "    </tr>\n",
       "    <tr>\n",
       "      <th>max</th>\n",
       "      <td>296.000000</td>\n",
       "      <td>4.000000</td>\n",
       "      <td>163.000000</td>\n",
       "      <td>0.0</td>\n",
       "    </tr>\n",
       "  </tbody>\n",
       "</table>\n",
       "</div>"
      ],
      "text/plain": [
       "       section_number    section_gpa  non_gpa_count  non_gpa_percent\n",
       "count   185256.000000  185256.000000  185256.000000         185256.0\n",
       "mean         7.302101       3.451737       0.656805              0.0\n",
       "std         12.653836       0.397448       2.350974              0.0\n",
       "min          1.000000       0.000000       0.000000              0.0\n",
       "25%          1.000000       3.157895       0.000000              0.0\n",
       "50%          2.000000       3.478533       0.000000              0.0\n",
       "75%          8.000000       3.800000       1.000000              0.0\n",
       "max        296.000000       4.000000     163.000000              0.0"
      ]
     },
     "execution_count": 4,
     "metadata": {},
     "output_type": "execute_result"
    }
   ],
   "source": [
    "afternoon_df = pd.read_sql('SELECT * FROM afternoon_classes_gpas;', engine)\n",
    "afternoon_df.describe()"
   ]
  },
  {
   "cell_type": "markdown",
   "metadata": {},
   "source": [
    "## Remove the classes where the average GPA was 4.0 and only look at GPAs"
   ]
  },
  {
   "cell_type": "code",
   "execution_count": 5,
   "metadata": {},
   "outputs": [
    {
     "data": {
      "text/plain": [
       "count    123451.000000\n",
       "mean          3.373092\n",
       "std           0.366443\n",
       "min           0.000000\n",
       "25%           3.117647\n",
       "50%           3.395833\n",
       "75%           3.666667\n",
       "max           3.996503\n",
       "Name: section_gpa, dtype: float64"
      ]
     },
     "execution_count": 5,
     "metadata": {},
     "output_type": "execute_result"
    }
   ],
   "source": [
    "morning_minus_four_os = morning_df.loc[morning_df['section_gpa'] != 4.0]['section_gpa']\n",
    "morning_minus_four_os.describe()"
   ]
  },
  {
   "cell_type": "code",
   "execution_count": 6,
   "metadata": {},
   "outputs": [
    {
     "data": {
      "text/plain": [
       "count    166296.000000\n",
       "mean          3.389228\n",
       "std           0.371208\n",
       "min           0.000000\n",
       "25%           3.121739\n",
       "50%           3.416667\n",
       "75%           3.695652\n",
       "max           3.998418\n",
       "Name: section_gpa, dtype: float64"
      ]
     },
     "execution_count": 6,
     "metadata": {},
     "output_type": "execute_result"
    }
   ],
   "source": [
    "afternoon_minus_four_os = afternoon_df.loc[afternoon_df['section_gpa'] != 4.0]['section_gpa']\n",
    "afternoon_minus_four_os.describe()"
   ]
  },
  {
   "cell_type": "markdown",
   "metadata": {},
   "source": [
    "## Choose 2,000 random classes from each population to do the hypothesis testing on"
   ]
  },
  {
   "cell_type": "code",
   "execution_count": 7,
   "metadata": {},
   "outputs": [],
   "source": [
    "morning_choice = np.random.choice(morning_minus_four_os, size=2000, replace=False)\n",
    "afternoon_choice = np.random.choice(afternoon_minus_four_os, size=2000, replace=False)"
   ]
  },
  {
   "cell_type": "markdown",
   "metadata": {},
   "source": [
    "## Generate histogram plots for GPAs"
   ]
  },
  {
   "cell_type": "code",
   "execution_count": 8,
   "metadata": {},
   "outputs": [
    {
     "data": {
      "image/png": "[encoded data removed]",
      "text/plain": [
       "<Figure size 432x288 with 1 Axes>"
      ]
     },
     "metadata": {
      "needs_background": "light"
     },
     "output_type": "display_data"
    }
   ],
   "source": [
    "fig, ax = plt.subplots()\n",
    "ax.hist(morning_choice, alpha=0.5, bins=50, range=(1.0, 4.0), label='Morning Classes')\n",
    "ax.hist(afternoon_choice, alpha=0.5, bins=50, range=(1.0, 4.0), label='Afternoon Classes')\n",
    "ax.legend()\n",
    "ax.set_xlabel('GPA');"
   ]
  },
  {
   "cell_type": "markdown",
   "metadata": {},
   "source": [
    "## Perform statistical testing for the hypothesis"
   ]
  },
  {
   "cell_type": "code",
   "execution_count": 9,
   "metadata": {},
   "outputs": [
    {
     "data": {
      "text/plain": [
       "Ttest_indResult(statistic=-1.1421051577760724, pvalue=0.2534787236492726)"
      ]
     },
     "execution_count": 9,
     "metadata": {},
     "output_type": "execute_result"
    }
   ],
   "source": [
    "stats.ttest_ind(morning_choice, afternoon_choice, equal_var=False)"
   ]
  },
  {
   "cell_type": "markdown",
   "metadata": {},
   "source": [
    "This shows that there is not a statistically significant difference between the morning and afternoon class GPAs.\n",
    "\n",
    "Thus, we fail to reject the null hypothesis that grades are the same between the morning and afternoon."
   ]
  }
 ],
 "metadata": {
  "kernelspec": {
   "display_name": "Python [conda env:learn-env] *",
   "language": "python",
   "name": "conda-env-learn-env-py"
  },
  "language_info": {
   "codemirror_mode": {
    "name": "ipython",
    "version": 3
   },
   "file_extension": ".py",
   "mimetype": "text/x-python",
   "name": "python",
   "nbconvert_exporter": "python",
   "pygments_lexer": "ipython3",
   "version": "3.6.6"
  }
 },
 "nbformat": 4,
 "nbformat_minor": 2
}
